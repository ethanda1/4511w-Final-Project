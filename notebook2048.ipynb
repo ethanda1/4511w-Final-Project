{
 "cells": [
  {
   "cell_type": "code",
   "execution_count": 1,
   "metadata": {},
   "outputs": [],
   "source": [
    "from puzzle import GameGrid\n",
    "from heuristics import fewest_filled_tiles, numberOfTilesInSameLocation\n"
   ]
  },
  {
   "cell_type": "code",
   "execution_count": null,
   "metadata": {},
   "outputs": [],
   "source": [
    "NUM_ITERATIONS = 1000\n",
    "def computeAvgGameScore(heuristic):\n",
    "    if (not(callable(heuristic))):\n",
    "        print(\"Use a valid heuristic\")\n",
    "        return -1\n",
    "    \n",
    "    avg_score = 0\n",
    "    \n",
    "    for i in range(0, NUM_ITERATIONS):\n",
    "        avg_score += GameGrid(heuristic).game_score\n",
    "    avg_score = avg_score / NUM_ITERATIONS\n",
    "    return avg_score\n",
    "    \n",
    "    "
   ]
  },
  {
   "cell_type": "code",
   "execution_count": null,
   "metadata": {},
   "outputs": [],
   "source": [
    "# Most Empty Tiles\n",
    "avg_et_score = computeAvgGameScore(fewest_filled_tiles)"
   ]
  },
  {
   "cell_type": "code",
   "execution_count": null,
   "metadata": {},
   "outputs": [
    {
     "name": "stdout",
     "output_type": "stream",
     "text": [
      "\n",
      "actual matrix\n",
      "[0, 0, 0, 0]\n",
      "[0, 0, 0, 0]\n",
      "[0, 2, 0, 0]\n",
      "[0, 0, 0, 2]\n"
     ]
    },
    {
     "ename": "Exception",
     "evalue": "No state history",
     "output_type": "error",
     "traceback": [
      "\u001b[0;31m---------------------------------------------------------------------------\u001b[0m",
      "\u001b[0;31mException\u001b[0m                                 Traceback (most recent call last)",
      "Cell \u001b[0;32mIn[2], line 2\u001b[0m\n\u001b[1;32m      1\u001b[0m \u001b[38;5;66;03m# Number of Tiles in Same Location\u001b[39;00m\n\u001b[0;32m----> 2\u001b[0m same_location_score \u001b[38;5;241m=\u001b[39m \u001b[43mGameGrid\u001b[49m\u001b[43m(\u001b[49m\u001b[43mnumberOfTilesInSameLocation\u001b[49m\u001b[43m,\u001b[49m\u001b[43m \u001b[49m\u001b[38;5;241;43m2000\u001b[39;49m\u001b[43m)\u001b[49m\n",
      "File \u001b[0;32m~/Desktop/schoolWork/CSCI-4511W/final_project/open_src_repos/4511w-Final-Project/puzzle.py:47\u001b[0m, in \u001b[0;36mGameGrid.__init__\u001b[0;34m(self, heuristic, depth_limit, time_between_moves)\u001b[0m\n\u001b[1;32m     44\u001b[0m \u001b[38;5;28mself\u001b[39m\u001b[38;5;241m.\u001b[39mhistory_matrixs \u001b[38;5;241m=\u001b[39m [\u001b[38;5;28mself\u001b[39m\u001b[38;5;241m.\u001b[39mmatrix]\n\u001b[1;32m     45\u001b[0m \u001b[38;5;28mself\u001b[39m\u001b[38;5;241m.\u001b[39mupdate_grid_cells()\n\u001b[0;32m---> 47\u001b[0m \u001b[38;5;28;43mself\u001b[39;49m\u001b[38;5;241;43m.\u001b[39;49m\u001b[43mauto_play\u001b[49m\u001b[43m(\u001b[49m\u001b[43m)\u001b[49m\n\u001b[1;32m     48\u001b[0m \u001b[38;5;28mself\u001b[39m\u001b[38;5;241m.\u001b[39mmainloop()\n",
      "File \u001b[0;32m~/Desktop/schoolWork/CSCI-4511W/final_project/open_src_repos/4511w-Final-Project/puzzle.py:153\u001b[0m, in \u001b[0;36mGameGrid.auto_play\u001b[0;34m(self)\u001b[0m\n\u001b[1;32m    151\u001b[0m \u001b[38;5;28;01mdef\u001b[39;00m \u001b[38;5;21mauto_play\u001b[39m(\u001b[38;5;28mself\u001b[39m):\n\u001b[1;32m    152\u001b[0m \u001b[38;5;250m    \u001b[39m\u001b[38;5;124;03m\"\"\"Automatically make a move every 1 second.\"\"\"\u001b[39;00m\n\u001b[0;32m--> 153\u001b[0m     \u001b[38;5;28;01mif\u001b[39;00m (\u001b[38;5;129;01mnot\u001b[39;00m(\u001b[38;5;28;43mself\u001b[39;49m\u001b[38;5;241;43m.\u001b[39;49m\u001b[43mmake_heuristic_move\u001b[49m\u001b[43m(\u001b[49m\u001b[43m)\u001b[49m \u001b[38;5;241m==\u001b[39m \u001b[38;5;124m\"\u001b[39m\u001b[38;5;124mnot over\u001b[39m\u001b[38;5;124m\"\u001b[39m)):\n\u001b[1;32m    154\u001b[0m         \u001b[38;5;28mself\u001b[39m\u001b[38;5;241m.\u001b[39mgame_score \u001b[38;5;241m=\u001b[39m logic\u001b[38;5;241m.\u001b[39mcalc_game_score(\u001b[38;5;28mself\u001b[39m\u001b[38;5;241m.\u001b[39mmatrix)\n\u001b[1;32m    155\u001b[0m         \u001b[38;5;28mself\u001b[39m\u001b[38;5;241m.\u001b[39mclose_game()\n",
      "File \u001b[0;32m~/Desktop/schoolWork/CSCI-4511W/final_project/open_src_repos/4511w-Final-Project/puzzle.py:106\u001b[0m, in \u001b[0;36mGameGrid.make_heuristic_move\u001b[0;34m(self)\u001b[0m\n\u001b[1;32m    104\u001b[0m \u001b[38;5;28;01mdef\u001b[39;00m \u001b[38;5;21mmake_heuristic_move\u001b[39m(\u001b[38;5;28mself\u001b[39m):\n\u001b[1;32m    105\u001b[0m \u001b[38;5;250m    \u001b[39m\u001b[38;5;124;03m\"\"\"Make a heuristic move and update the grid.\"\"\"\u001b[39;00m\n\u001b[0;32m--> 106\u001b[0m     move_key \u001b[38;5;241m=\u001b[39m \u001b[38;5;28;43mself\u001b[39;49m\u001b[38;5;241;43m.\u001b[39;49m\u001b[43mget_heuristic_move\u001b[49m\u001b[43m(\u001b[49m\u001b[43m)\u001b[49m\n\u001b[1;32m    107\u001b[0m     \u001b[38;5;28;01mif\u001b[39;00m (\u001b[38;5;129;01mnot\u001b[39;00m(move_key)):\n\u001b[1;32m    108\u001b[0m         \u001b[38;5;28mprint\u001b[39m(\u001b[38;5;124m\"\u001b[39m\u001b[38;5;124mmove key is None\u001b[39m\u001b[38;5;124m\"\u001b[39m)\n",
      "File \u001b[0;32m~/Desktop/schoolWork/CSCI-4511W/final_project/open_src_repos/4511w-Final-Project/puzzle.py:98\u001b[0m, in \u001b[0;36mGameGrid.get_heuristic_move\u001b[0;34m(self)\u001b[0m\n\u001b[1;32m     96\u001b[0m \u001b[38;5;28;01mdef\u001b[39;00m \u001b[38;5;21mget_heuristic_move\u001b[39m(\u001b[38;5;28mself\u001b[39m):\n\u001b[1;32m     97\u001b[0m     root_node: Node \u001b[38;5;241m=\u001b[39m Node(value\u001b[38;5;241m=\u001b[39m\u001b[38;5;241m0\u001b[39m, children\u001b[38;5;241m=\u001b[39m[], state_matrix\u001b[38;5;241m=\u001b[39m\u001b[38;5;28mself\u001b[39m\u001b[38;5;241m.\u001b[39mmatrix, action_history\u001b[38;5;241m=\u001b[39m[], action\u001b[38;5;241m=\u001b[39m\u001b[38;5;28;01mNone\u001b[39;00m)\n\u001b[0;32m---> 98\u001b[0m     ret_val: ExpectimaxValue \u001b[38;5;241m=\u001b[39m \u001b[43mexpectimax\u001b[49m\u001b[43m(\u001b[49m\u001b[43mroot_node\u001b[49m\u001b[43m,\u001b[49m\u001b[43m \u001b[49m\u001b[43mMAX_NODE\u001b[49m\u001b[43m,\u001b[49m\u001b[43m \u001b[49m\u001b[38;5;28;43mself\u001b[39;49m\u001b[38;5;241;43m.\u001b[39;49m\u001b[43mheuristic\u001b[49m\u001b[43m,\u001b[49m\u001b[43m \u001b[49m\u001b[38;5;241;43m1\u001b[39;49m\u001b[43m,\u001b[49m\u001b[43m \u001b[49m\u001b[38;5;28;43mself\u001b[39;49m\u001b[38;5;241;43m.\u001b[39;49m\u001b[43mdepth_limit\u001b[49m\u001b[43m)\u001b[49m\n\u001b[1;32m    100\u001b[0m     \u001b[38;5;28;01mif\u001b[39;00m (ret_val\u001b[38;5;241m.\u001b[39maction_history):\n\u001b[1;32m    101\u001b[0m         \u001b[38;5;28;01mreturn\u001b[39;00m ret_val\u001b[38;5;241m.\u001b[39maction_history[\u001b[38;5;241m-\u001b[39m\u001b[38;5;241m1\u001b[39m]\n",
      "File \u001b[0;32m~/Desktop/schoolWork/CSCI-4511W/final_project/open_src_repos/4511w-Final-Project/expectimax.py:94\u001b[0m, in \u001b[0;36mexpectimax\u001b[0;34m(node, node_type, heuristic, current_depth, depth_limit)\u001b[0m\n\u001b[1;32m     91\u001b[0m     \u001b[38;5;28;01mreturn\u001b[39;00m\n\u001b[1;32m     93\u001b[0m \u001b[38;5;66;03m#generate children nodes, breaks isTerminal, needs depth limit\u001b[39;00m\n\u001b[0;32m---> 94\u001b[0m \u001b[43mnode\u001b[49m\u001b[38;5;241;43m.\u001b[39;49m\u001b[43mgenerateChildren\u001b[49m\u001b[43m(\u001b[49m\u001b[43mnode_type\u001b[49m\u001b[43m,\u001b[49m\u001b[43m \u001b[49m\u001b[43mheuristic\u001b[49m\u001b[43m)\u001b[49m\n\u001b[1;32m     96\u001b[0m \u001b[38;5;66;03m# Terminal node\u001b[39;00m\n\u001b[1;32m     97\u001b[0m \u001b[38;5;28;01mif\u001b[39;00m (current_depth \u001b[38;5;241m==\u001b[39m depth_limit):\n",
      "File \u001b[0;32m~/Desktop/schoolWork/CSCI-4511W/final_project/open_src_repos/4511w-Final-Project/expectimax.py:71\u001b[0m, in \u001b[0;36mNode.generateChildren\u001b[0;34m(self, node_type, heuristic)\u001b[0m\n\u001b[1;32m     68\u001b[0m     \u001b[38;5;28;01mcontinue\u001b[39;00m\n\u001b[1;32m     70\u001b[0m \u001b[38;5;28;01mif\u001b[39;00m (\u001b[38;5;129;01mnot\u001b[39;00m(\u001b[38;5;28mself\u001b[39m\u001b[38;5;241m.\u001b[39mstate_history_matrices)):\n\u001b[0;32m---> 71\u001b[0m     \u001b[38;5;28;01mraise\u001b[39;00m \u001b[38;5;167;01mException\u001b[39;00m(\u001b[38;5;124m\"\u001b[39m\u001b[38;5;124mNo state history\u001b[39m\u001b[38;5;124m\"\u001b[39m)\n\u001b[1;32m     73\u001b[0m evaluated_score \u001b[38;5;241m=\u001b[39m heuristic(result_matrix, \u001b[38;5;28mself\u001b[39m\u001b[38;5;241m.\u001b[39mstate_history_matrices[\u001b[38;5;241m-\u001b[39m\u001b[38;5;241m1\u001b[39m])\n\u001b[1;32m     74\u001b[0m node \u001b[38;5;241m=\u001b[39m Node(evaluated_score, [], result_matrix, new_action_history, game_action)\n",
      "\u001b[0;31mException\u001b[0m: No state history"
     ]
    }
   ],
   "source": [
    "# Number of Tiles in Same Location\n",
    "same_location_score = GameGrid(numberOfTilesInSameLocation, time_between_moves=2000)"
   ]
  }
 ],
 "metadata": {
  "kernelspec": {
   "display_name": "Python 3",
   "language": "python",
   "name": "python3"
  },
  "language_info": {
   "codemirror_mode": {
    "name": "ipython",
    "version": 3
   },
   "file_extension": ".py",
   "mimetype": "text/x-python",
   "name": "python",
   "nbconvert_exporter": "python",
   "pygments_lexer": "ipython3",
   "version": "3.10.12"
  }
 },
 "nbformat": 4,
 "nbformat_minor": 2
}
