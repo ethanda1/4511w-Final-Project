{
 "cells": [
  {
   "cell_type": "code",
   "execution_count": null,
   "metadata": {},
   "outputs": [],
   "source": [
    "from puzzle import GameGrid\n",
    "from heuristics import fewest_filled_tiles, numberOfTilesInSameLocation, highTilesAlongSingleEdge\n"
   ]
  },
  {
   "cell_type": "code",
   "execution_count": null,
   "metadata": {},
   "outputs": [],
   "source": [
    "NUM_ITERATIONS = 1000\n",
    "def computeAvgGameScore(heuristic):\n",
    "    if (not(callable(heuristic))):\n",
    "        print(\"Use a valid heuristic\")\n",
    "        return -1\n",
    "    \n",
    "    avg_score = 0\n",
    "    \n",
    "    for i in range(0, NUM_ITERATIONS):\n",
    "        avg_score += GameGrid(heuristic).game_score\n",
    "    avg_score = avg_score / NUM_ITERATIONS\n",
    "    return avg_score\n",
    "    \n",
    "    "
   ]
  },
  {
   "cell_type": "code",
   "execution_count": null,
   "metadata": {},
   "outputs": [],
   "source": [
    "# Most Empty Tiles\n",
    "avg_et_score = computeAvgGameScore(fewest_filled_tiles)\n",
    "print(avg_et_score)"
   ]
  },
  {
   "cell_type": "code",
   "execution_count": null,
   "metadata": {},
   "outputs": [],
   "source": [
    "# Number of Tiles in Same Location\n",
    "same_location_score = computeAvgGameScore(numberOfTilesInSameLocation)\n",
    "print(same_location_score)"
   ]
  },
  {
   "cell_type": "code",
   "execution_count": null,
   "metadata": {},
   "outputs": [],
   "source": [
    "# High Tiles\n",
    "same_location_score = computeAvgGameScore(highTilesAlongSingleEdge)\n",
    "print(same_location_score)"
   ]
  }
 ],
 "metadata": {
  "kernelspec": {
   "display_name": "Python 3",
   "language": "python",
   "name": "python3"
  },
  "language_info": {
   "codemirror_mode": {
    "name": "ipython",
    "version": 3
   },
   "file_extension": ".py",
   "mimetype": "text/x-python",
   "name": "python",
   "nbconvert_exporter": "python",
   "pygments_lexer": "ipython3",
   "version": "3.10.12"
  }
 },
 "nbformat": 4,
 "nbformat_minor": 2
}
