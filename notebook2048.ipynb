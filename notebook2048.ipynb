{
 "cells": [
  {
   "cell_type": "code",
   "execution_count": null,
   "metadata": {},
   "outputs": [],
   "source": [
    "from puzzle import GameGrid\n",
    "from heuristics import fewest_filled_tiles, numberOfTilesInSameLocation, highTilesAlongSingleEdge\n",
    "import csv\n",
    "import string\n",
    "import time\n"
   ]
  },
  {
   "cell_type": "code",
   "execution_count": null,
   "metadata": {},
   "outputs": [],
   "source": [
    "\n",
    "def writeHeuristicDataToCSV(heuristicName: str, timeSecs: float, gameScore: int, depthLimit: int):\n",
    "    # Define the CSV file name and column headers\n",
    "    file_name = f\"{heuristicName}.csv\"\n",
    "    fieldnames = [\"Depth Searched\", \"Score\", \"Time(s)\"]\n",
    "\n",
    "    # Open the file in append mode\n",
    "    with open(file_name, mode=\"a\", newline=\"\") as file:\n",
    "        writer = csv.DictWriter(file, fieldnames=fieldnames)\n",
    "\n",
    "        # Write the header only if the file is empty\n",
    "        file_empty = file.tell() == 0\n",
    "        if file_empty:\n",
    "            writer.writeheader()\n",
    "\n",
    "        # Write the data row\n",
    "        writer.writerow({\n",
    "            \"Depth Searched\": depthLimit,\n",
    "            \"Score\": gameScore,\n",
    "            \"Time(s)\": timeSecs\n",
    "        })"
   ]
  },
  {
   "cell_type": "code",
   "execution_count": null,
   "metadata": {},
   "outputs": [],
   "source": [
    "NUM_ITERATIONS = 1000\n",
    "def computeAvgGameScore(heuristic, heuristicName:str, depthLimit=2):\n",
    "    if (not(callable(heuristic))):\n",
    "        print(\"Use a valid heuristic\")\n",
    "        return -1\n",
    "    \n",
    "    avg_score = 0\n",
    "    \n",
    "    for i in range(0, NUM_ITERATIONS):\n",
    "        startTime = time.time()\n",
    "        current_score = GameGrid(heuristic, depth_limit=depthLimit).game_score\n",
    "        totalTime = time.time() - startTime\n",
    "        \n",
    "        \n",
    "        writeHeuristicDataToCSV(heuristicName, totalTime, current_score, depthLimit)\n",
    "        \n",
    "        avg_score += current_score\n",
    "    avg_score = avg_score / NUM_ITERATIONS\n",
    "    return avg_score\n",
    "    \n",
    "    "
   ]
  },
  {
   "cell_type": "code",
   "execution_count": null,
   "metadata": {},
   "outputs": [],
   "source": [
    "# Most Empty Tiles\n",
    "avg_et_score = computeAvgGameScore(fewest_filled_tiles, \"Most Empty Tiles\")\n",
    "print(avg_et_score)"
   ]
  },
  {
   "cell_type": "code",
   "execution_count": null,
   "metadata": {},
   "outputs": [],
   "source": [
    "# Number of Tiles in Same Location\n",
    "same_location_score = computeAvgGameScore(numberOfTilesInSameLocation, \"Tiles in Same Location\")\n",
    "print(same_location_score)"
   ]
  },
  {
   "cell_type": "code",
   "execution_count": null,
   "metadata": {},
   "outputs": [],
   "source": [
    "# High Tiles\n",
    "same_location_score = computeAvgGameScore(highTilesAlongSingleEdge, \"High Tiles Along Single Edge\")\n",
    "print(same_location_score)"
   ]
  }
 ],
 "metadata": {
  "kernelspec": {
   "display_name": "Python 3",
   "language": "python",
   "name": "python3"
  },
  "language_info": {
   "codemirror_mode": {
    "name": "ipython",
    "version": 3
   },
   "file_extension": ".py",
   "mimetype": "text/x-python",
   "name": "python",
   "nbconvert_exporter": "python",
   "pygments_lexer": "ipython3",
   "version": "3.10.12"
  }
 },
 "nbformat": 4,
 "nbformat_minor": 2
}
